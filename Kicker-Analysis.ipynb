{
  "nbformat": 4,
  "nbformat_minor": 0,
  "metadata": {
    "colab": {
      "name": "Untitled2.ipynb",
      "provenance": [],
      "authorship_tag": "ABX9TyPOb61ke0556zBsxQs/WOKX",
      "include_colab_link": true
    },
    "kernelspec": {
      "name": "python3",
      "display_name": "Python 3"
    },
    "language_info": {
      "name": "python"
    }
  },
  "cells": [
    {
      "cell_type": "markdown",
      "metadata": {
        "id": "view-in-github",
        "colab_type": "text"
      },
      "source": [
        "<a href=\"https://colab.research.google.com/github/dave20874/RapidReact-Kicker/blob/main/Kicker-Analysis.ipynb\" target=\"_parent\"><img src=\"https://colab.research.google.com/assets/colab-badge.svg\" alt=\"Open In Colab\"/></a>"
      ]
    },
    {
      "cell_type": "code",
      "execution_count": 91,
      "metadata": {
        "id": "r6VFMMEizUlA"
      },
      "outputs": [],
      "source": [
        "import math"
      ]
    },
    {
      "cell_type": "markdown",
      "source": [
        "This notebook develops some ideas for a pinball-style kicker to launch CARGO (oversized tennis balls) as part of 2022 FIRST Robotics Competition game, Rapid React.\n",
        "\n",
        "The analysis relies on the concept of conservation of energy.  A motor will push back plunger (performing work), compressing a spring (storing potential energy).  When the plunger is released, the spring propels the plunger forward (converting to kinetic energy).  At the end of it's stroke, the plunger strikes the ball, transferring some kinetic energy to it.  The ball then flies up, it's energy transitioning smoothly to gravitational potential energy as it rises."
      ],
      "metadata": {
        "id": "O6Vp23YRzV2J"
      }
    },
    {
      "cell_type": "markdown",
      "source": [
        "Let's begin by defining some values we'll be using:\n"
      ],
      "metadata": {
        "id": "azbvwEBB4T06"
      }
    },
    {
      "cell_type": "code",
      "source": [
        "# Gravitational acceleration, meters per second\n",
        "# (For FRC matches held on Earth)\n",
        "g = 9.8\n",
        "\n",
        "# mass of the CARGO ball, kg\n",
        "m_ball = 0.27\n",
        "\n",
        "# radius of CARGO ball, meters\n",
        "ball_radius = 0.12\n",
        "\n",
        "# In a collision, the ball only retains about 80% of it's kinetic energy.\n",
        "ball_loss = 0.80\n",
        "\n",
        "# Initial height of ball before shot, meters\n",
        "h_shooter = 1.0\n",
        "\n",
        "# Goal height, meters.  (8 feet 8 inches)\n",
        "h_goal = 2.64\n",
        "\n",
        "# Upper goal radius, meters\n",
        "goal_radius = 0.61\n",
        "\n",
        "prototype = \"c-model\"\n",
        "\n",
        "if prototype == \"2x4 proto 1\":\n",
        "  # mass of the plunger, kg\n",
        "  m_plunger = 1.31 + 0.158  # 2x4 plunger + spring, effective mass\n",
        "\n",
        "  # pull distance of the plunger, meters\n",
        "  d_plunger = 0.15\n",
        "\n",
        "  # The stretch spring stretches 12.8 cm with 20 lbs (9.09 kg) on it.\n",
        "  # (696 N/m)\n",
        "  k_stretch = 9.09*g/0.128\n",
        "\n",
        "  # spring constant, Newtons per meter\n",
        "  # We will use 6 springs and measured 1.5 kg of force at 1cm (0.01m) compression\n",
        "  k_one_spring = k_stretch\n",
        "  num_springs = 1\n",
        "elif prototype == \"2x4 proto 2\":\n",
        "  # mass of the plunger, kg\n",
        "  m_plunger = 1.31 + 2*0.158 # 2x4 plunger\n",
        "\n",
        "  # pull distance of the plunger, meters\n",
        "  d_plunger = 0.13\n",
        "\n",
        "  # The stretch spring stretches 12.8 cm with 20 lbs (9.09 kg) on it.\n",
        "  # (696 N/m)\n",
        "  k_stretch = 9.09*g/0.128\n",
        "\n",
        "  # spring constant, Newtons per meter\n",
        "  # We will use 6 springs and measured 1.5 kg of force at 1cm (0.01m) compression\n",
        "  k_one_spring = k_stretch\n",
        "  num_springs = 2\n",
        "elif prototype == \"2x4 proto 3\":\n",
        "  # mass of the plunger, kg\n",
        "  m_plunger = 1.31 + 3*0.158  # 2x4 plunger\n",
        "\n",
        "  # pull distance of the plunger, meters\n",
        "  d_plunger = 0.13\n",
        "\n",
        "  # The stretch spring stretches 12.8 cm with 20 lbs (9.09 kg) on it.\n",
        "  # (696 N/m)\n",
        "  k_stretch = 9.09*g/0.128\n",
        "\n",
        "  # spring constant, Newtons per meter\n",
        "  # We will use 6 springs and measured 1.5 kg of force at 1cm (0.01m) compression\n",
        "  k_one_spring = k_stretch\n",
        "  num_springs = 3\n",
        "elif prototype == \"c-model\":\n",
        "  # Design goal\n",
        "  # mass of the plunger, kg\n",
        "  m_plunger = 0.400\n",
        "\n",
        "  # pull distance of the plunger, meters\n",
        "  d_plunger = 0.06\n",
        "\n",
        "  # The stretch spring stretches 1 cm with 1.5 kg on it.\n",
        "  # (1470 N/m)\n",
        "  k_stretch = 1.5*g/0.01\n",
        "\n",
        "  # spring constant, Newtons per meter\n",
        "  k_one_spring = k_stretch\n",
        "  num_springs = 5\n",
        "\n",
        "  # Compression springs add an effective mass of 11.5 grams\n",
        "  m_plunger += num_springs*0.0115\n",
        "\n",
        "elif prototype == \"s-model\":\n",
        "  # mass of the plunger, kg\n",
        "  m_plunger = 0.4\n",
        "\n",
        "  # pull distance of the plunger, meters\n",
        "  d_plunger = 0.13\n",
        "\n",
        "  # The stretch spring stretches 12.8 cm with 20 lbs (9.09 kg) on it.\n",
        "  # (696 N/m)\n",
        "  k_stretch = 9.09*g/0.128\n",
        "\n",
        "  # spring constant, Newtons per meter\n",
        "  # We will use 6 springs and measured 1.5 kg of force at 1cm (0.01m) compression\n",
        "  k_one_spring = k_stretch\n",
        "  num_springs = 2\n",
        "\n",
        "  # effective mass of springs\n",
        "  # (each spring has a self-load mass of 158 grams)\n",
        "  m_plunger += num_springs*0.158\n",
        "else:\n",
        "  raise Exception(\"No kicker design specified\")\n",
        "\n",
        "k_spring = num_springs * k_one_spring\n",
        "\n"
      ],
      "metadata": {
        "id": "Stt3mN4d6i0U"
      },
      "execution_count": 92,
      "outputs": []
    },
    {
      "cell_type": "markdown",
      "source": [
        "Now we can define some useful functions.  These functions compute the amount of energy in various parts of our system and convert energy back into values like distances and speeds."
      ],
      "metadata": {
        "id": "sB3eqrhT84s8"
      }
    },
    {
      "cell_type": "code",
      "source": [
        "# Spring stored energy\n",
        "# For a linear spring with spring constant, k, compressed by distance d.\n",
        "def spring_energy(k, d):\n",
        "  energy = 0.5 * k * d * d\n",
        "  return energy\n",
        "\n",
        "# Compute spring stretch amount for a spring with constant, k, and energy e\n",
        "# since spring energy, e = 1/2 * k * d^2, we have d = sqrt(2*e/k)\n",
        "def spring_stretch(k, e):\n",
        "  d = math.sqrt(2.0*e/k)\n",
        "  return d\n",
        "\n",
        "# Get kinetic energy of a mass, m, moving at velocity, v\n",
        "# e = 1/2 * m * v^2\n",
        "def vel_to_ke(m, v):\n",
        "  e = 0.5 * m * v * v\n",
        "  return e\n",
        "\n",
        "# Get velocity of a mass, m, with kinetic energy e\n",
        "# since kinetic energy, e = 1/2*m*v^2, we have v = sqrt(2*e/m)\n",
        "def ke_to_vel(e, m):\n",
        "  v = math.sqrt(2.0 * e / m)\n",
        "  return v\n",
        "\n",
        "# Get potential energy of a mass, m, at height, h\n",
        "def h_to_pe(m, h):\n",
        "  e = m * g * h\n",
        "  return e\n",
        "\n",
        "# Get height of a mass, m, with potential energy e\n",
        "def pe_to_h(e, m):\n",
        "  h = e / (m * g)\n",
        "  return h\n",
        "  "
      ],
      "metadata": {
        "id": "XOlWzu2f9C24"
      },
      "execution_count": 93,
      "outputs": []
    },
    {
      "cell_type": "markdown",
      "source": [
        "Now we can ask some questions.\n",
        "\n",
        "How much energy does the spring store, when it's compressed?  This is the amount of energy we're starting with."
      ],
      "metadata": {
        "id": "jXPgIapX_9_a"
      }
    },
    {
      "cell_type": "code",
      "source": [
        "# Starting energy\n",
        "e = spring_energy(k_spring, d_plunger)\n",
        "print(f\"Starting energy: {e:4.3f} (Design: {prototype})\")\n"
      ],
      "metadata": {
        "colab": {
          "base_uri": "https://localhost:8080/"
        },
        "id": "EaoQXJTIAI1k",
        "outputId": "252d13c0-9425-4734-b80d-01bf9ff2ed1e"
      },
      "execution_count": 94,
      "outputs": [
        {
          "output_type": "stream",
          "name": "stdout",
          "text": [
            "Starting energy: 13.230 (Design: c-model)\n"
          ]
        }
      ]
    },
    {
      "cell_type": "markdown",
      "source": [
        "And, quick question, how high would a CARGO go if all this energy were transferred to it?"
      ],
      "metadata": {
        "id": "3t4pIT0tEOpg"
      }
    },
    {
      "cell_type": "code",
      "source": [
        "# Height of a ball with this much energy added to it.\n",
        "h = pe_to_h(e, m_ball)\n",
        "print(f\"How high could we shoot, above launcher? {h:4.3f} meters\")\n",
        "print(f\"That is {h+h_shooter:4.3f} meters above floor\")\n",
        "print(f\"And {h+h_shooter-h_goal:4.3f} meters above the high goal.\")\n"
      ],
      "metadata": {
        "colab": {
          "base_uri": "https://localhost:8080/"
        },
        "id": "w4W-m-UyEZtA",
        "outputId": "b6675192-0200-48c0-ecf0-feeb9ac8c1dc"
      },
      "execution_count": 95,
      "outputs": [
        {
          "output_type": "stream",
          "name": "stdout",
          "text": [
            "How high could we shoot, above launcher? 5.000 meters\n",
            "That is 6.000 meters above floor\n",
            "And 3.360 meters above the high goal.\n"
          ]
        }
      ]
    },
    {
      "cell_type": "markdown",
      "source": [
        "Using energy, let's compute the height of a launched ball directly from the compression of a spring.  Nice!  But we need to take a deeper look at the whole launch process.  What if not all that energy goes into the ball?  And what if we are launching the ball at an angle instead of straight up?\n",
        "\n",
        "First, lets look at the collision of the plunger with the ball.  Does all the energy go to the ball?  No!  How much the ball receives depends on the mass of the plunger and the mass of the ball.\n",
        "\n",
        "If there is no friction in the plunger mechanism, we can assume all the spring energy is transferred to the plunger just before it strikes the ball.  So, knowing the spring's energy and the plunger's mass, we can compute the speed of the plunger."
      ],
      "metadata": {
        "id": "6SAOb76gJG5y"
      }
    },
    {
      "cell_type": "code",
      "source": [
        "v_plunger = ke_to_vel(e, m_plunger)\n",
        "print(f\"Plunger is moving {v_plunger:4.3f} meters per second\")"
      ],
      "metadata": {
        "colab": {
          "base_uri": "https://localhost:8080/"
        },
        "id": "IAUnRtW-KKMG",
        "outputId": "b998adee-92cc-4bac-bf84-2a362bc60d5d"
      },
      "execution_count": 96,
      "outputs": [
        {
          "output_type": "stream",
          "name": "stdout",
          "text": [
            "Plunger is moving 7.605 meters per second\n"
          ]
        }
      ]
    },
    {
      "cell_type": "markdown",
      "source": [
        "Then we use an equation for computing the effect of a collision between two masses in one dimension.  \n",
        "\n",
        "In this formula, m1 and m2 are the masses of two objects.  Before the collision they have velocities u1 and u2.  After, they have velocities v1 and v2.\n",
        "\n",
        "We will evaluate the kinetic energy of the ball and plunger at this point to see how efficient our collision was."
      ],
      "metadata": {
        "id": "UiAsRZcSKyPl"
      }
    },
    {
      "cell_type": "code",
      "source": [
        "# Compute post-collision velocities, v1 and v2, for objects with mass m1, m2 colliding with velocities u1, u2\n",
        "def collide(m1, u1, m2, u2):\n",
        "  v1 = (u1*(m1-m2)+2*m2*u2) / (m1+m2)\n",
        "  v2 = (u2*(m2-m1)+2*m1*u1) / (m1+m2)\n",
        "  return (v1, v2)\n",
        "\n",
        "(v1, v2) = collide(m_plunger, v_plunger, m_ball, 0.0)\n",
        "print(f\"After an elastic collision, the ball would have velocity {v2:4.3f} meters per second\")\n",
        "print(f\"The plunger would have velocity {v1:4.3f} meters per second.\")\n",
        "e_ball = vel_to_ke(m_ball, v2)\n",
        "e_plunger = vel_to_ke(m_plunger, v1)\n",
        "print(f\"The ball has {e_ball:4.3f} Joules after collision.\")\n",
        "print(f\"That is {100*e_ball/e:4.3f}% of the energy we started with.\")"
      ],
      "metadata": {
        "colab": {
          "base_uri": "https://localhost:8080/"
        },
        "id": "eruaaNUFLzJj",
        "outputId": "570a33e5-3e9d-469d-e803-c19e40f164ae"
      },
      "execution_count": 97,
      "outputs": [
        {
          "output_type": "stream",
          "name": "stdout",
          "text": [
            "After an elastic collision, the ball would have velocity 9.565 meters per second\n",
            "The plunger would have velocity 1.960 meters per second.\n",
            "The ball has 12.351 Joules after collision.\n",
            "That is 93.357% of the energy we started with.\n"
          ]
        }
      ]
    },
    {
      "cell_type": "markdown",
      "source": [
        "TODO: Add analysis for optimal plunger mass."
      ],
      "metadata": {
        "id": "ypPhZ-hBRuCF"
      }
    },
    {
      "cell_type": "markdown",
      "source": [
        "We know the ball dissipates energy in collisions, though.  So we should reduce it's energy and re-evaluate how high it might go"
      ],
      "metadata": {
        "id": "FeAPoFZpR2pP"
      }
    },
    {
      "cell_type": "code",
      "source": [
        "e_ball = e_ball * ball_loss\n",
        "print(f\"Ball's adjusted energy: {e_ball:4.3f} Joules\")\n",
        "v_ball = ke_to_vel(e_ball, m_ball)\n",
        "print(f\"Ball's adjusted speed: {v_ball:4.3f} meters per second\")\n",
        "h_max = h_shooter + pe_to_h(e_ball, m_ball)\n",
        "print(f\"It can reach a max height of {h_max:4.3f} meters above the floor.\")\n",
        "print(f\"That is {h_max-h_goal:4.3f} meters above the goal.\")"
      ],
      "metadata": {
        "colab": {
          "base_uri": "https://localhost:8080/"
        },
        "id": "MvyJFpH8T-qS",
        "outputId": "44bb7b83-0ccc-4dde-f9f1-2b8c60982530"
      },
      "execution_count": 98,
      "outputs": [
        {
          "output_type": "stream",
          "name": "stdout",
          "text": [
            "Ball's adjusted energy: 9.881 Joules\n",
            "Ball's adjusted speed: 8.555 meters per second\n",
            "It can reach a max height of 4.734 meters above the floor.\n",
            "That is 2.094 meters above the goal.\n"
          ]
        }
      ]
    },
    {
      "cell_type": "markdown",
      "source": [
        "What sort of trajectories are possible with this much ball velocity?  We can answer this by looking first at the ball's velocity when it is at the opening of the high goal.  We can evaluate the potential energy at the goal high, subtract that from the total energy and the remaining part must be kinetic energy.  From there we get the velocity."
      ],
      "metadata": {
        "id": "eJNDYFaXfskM"
      }
    },
    {
      "cell_type": "code",
      "source": [
        "pe_goal = h_to_pe(m_ball, h_goal)\n",
        "pe_shooter = h_to_pe(m_ball, h_shooter)\n",
        "print(f\"Potential energy at goal: {pe_goal} Joules\")\n",
        "ke_at_goal = pe_shooter + e_ball - pe_goal\n",
        "v_at_goal = ke_to_vel(ke_at_goal, m_ball)\n",
        "print(f\"Velocity at goal entrance: {v_at_goal:4.3f} meters per second\")\n"
      ],
      "metadata": {
        "colab": {
          "base_uri": "https://localhost:8080/"
        },
        "id": "jnScaqaUgOuy",
        "outputId": "d4e3689a-987b-4bb1-d0d7-484a654e911a"
      },
      "execution_count": 99,
      "outputs": [
        {
          "output_type": "stream",
          "name": "stdout",
          "text": [
            "Potential energy at goal: 6.985440000000001 Joules\n",
            "Velocity at goal entrance: 6.407 meters per second\n"
          ]
        }
      ]
    },
    {
      "cell_type": "markdown",
      "source": [
        "Next, we can evaluate trajectories with that velocity, entering the goal at angles from vertical (90 degrees) to horizontal (0 degrees).  For each landing angle, we'll compute the max height above the goal, the horizontal distance from the goal when ascending, the launch distance from center of the field and the launch angle from the robot.  Some of these trajectories will be invalid because they don't clear the edge of the goal (max height less than ball radius horizontal ascent distance less than goal radius)"
      ],
      "metadata": {
        "id": "PEN2bqcAg83O"
      }
    },
    {
      "cell_type": "code",
      "source": [
        "# Given the goal velocity and angle, compute trajectory data:\n",
        "# returns (clearance_z, clearance_x, launch_d, launch_angle, is_valid)\n",
        "def eval_trajectory(final_v, final_theta, launch_h):\n",
        "  v_z = math.sin(final_theta)*final_v                # vertical speed at goal\n",
        "  v_x = math.cos(final_theta)*final_v                # horizontal speed at goal\n",
        "  t_apex_goal = v_z / g                         # time from apex to goal\n",
        "  z_above_goal = 0.5 * g * t_apex_goal * t_apex_goal # height of apex above goal\n",
        "  clearance_z = z_above_goal - ball_radius\n",
        "  x_at_goal = 2.0 * t_apex_goal * v_x           # hor movement from h_goal to apex and back\n",
        "  clearance_x = x_at_goal - goal_radius - ball_radius\n",
        "  t_shot_apex = math.sqrt(2.0 * (h_goal+z_above_goal-h_shooter) / g)\n",
        "  v_z_shooter = t_shot_apex * g\n",
        "  launch_d = v_x * (t_shot_apex+t_apex_goal)\n",
        "  launch_angle = math.atan(v_z_shooter / v_x)\n",
        "\n",
        "  is_valid = True\n",
        "  if clearance_z <= 0:\n",
        "    is_valid = False\n",
        "  if clearance_x <= 0:\n",
        "    is_valid = False\n",
        "\n",
        "  return (clearance_z, clearance_x, launch_d, launch_angle, is_valid)\n",
        "\n",
        "print(f\"{prototype}\")\n",
        "print(f\"k_spring: {k_one_spring} N/m\")\n",
        "print(f\"num springs: {num_springs}\")\n",
        "print(f\"draw dist: {d_plunger} m\")\n",
        "print(f\"plunger mass: {m_plunger} kg\")\n",
        "print(\"   entry z-clear x-clear    dist   angle   valid\")\n",
        "for degrees in range(90, 28, -2):\n",
        "  theta = math.radians(degrees)\n",
        "  cz, cx, dist, angle, valid = eval_trajectory(v_at_goal, theta, h_shooter)\n",
        "  print(f\"{math.degrees(theta):8.3f}{cz:8.3f}{cx:8.3f}{dist:8.3f}{math.degrees(angle):8.3f}{valid:8}\")"
      ],
      "metadata": {
        "colab": {
          "base_uri": "https://localhost:8080/"
        },
        "id": "ropjeTTYit4c",
        "outputId": "0916bfdb-c21c-4aaa-826c-d27fe7a72b3a"
      },
      "execution_count": 100,
      "outputs": [
        {
          "output_type": "stream",
          "name": "stdout",
          "text": [
            "c-model\n",
            "k_spring: 1470.0 N/m\n",
            "num springs: 5\n",
            "draw dist: 0.06 m\n",
            "plunger mass: 0.4575 kg\n",
            "   entry z-clear x-clear    dist   angle   valid\n",
            "  90.000   1.974  -0.730   0.000  90.000       0\n",
            "  88.000   1.972  -0.438   0.341  88.502       0\n",
            "  86.000   1.964  -0.147   0.681  87.006       0\n",
            "  84.000   1.951   0.141   1.018  85.510       1\n",
            "  82.000   1.934   0.425   1.351  84.018       1\n",
            "  80.000   1.911   0.703   1.679  82.528       1\n",
            "  78.000   1.884   0.974   2.001  81.042       1\n",
            "  76.000   1.852   1.236   2.314  79.562       1\n",
            "  74.000   1.815   1.490   2.618  78.087       1\n",
            "  72.000   1.774   1.732   2.912  76.619       1\n",
            "  70.000   1.729   1.962   3.195  75.159       1\n",
            "  68.000   1.680   2.180   3.466  73.708       1\n",
            "  66.000   1.628   2.383   3.723  72.266       1\n",
            "  64.000   1.572   2.571   3.966  70.835       1\n",
            "  62.000   1.513   2.743   4.194  69.416       1\n",
            "  60.000   1.451   2.897   4.407  68.010       1\n",
            "  58.000   1.386   3.035   4.603  66.619       1\n",
            "  56.000   1.319   3.154   4.782  65.243       1\n",
            "  54.000   1.251   3.254   4.944  63.884       1\n",
            "  52.000   1.180   3.334   5.088  62.545       1\n",
            "  50.000   1.109   3.395   5.214  61.225       1\n",
            "  48.000   1.037   3.436   5.322  59.927       1\n",
            "  46.000   0.964   3.456   5.411  58.653       1\n",
            "  44.000   0.891   3.456   5.483  57.405       1\n",
            "  42.000   0.818   3.436   5.536  56.184       1\n",
            "  40.000   0.745   3.395   5.572  54.993       1\n",
            "  38.000   0.674   3.334   5.590  53.834       1\n",
            "  36.000   0.604   3.254   5.592  52.709       1\n",
            "  34.000   0.535   3.154   5.577  51.622       1\n",
            "  32.000   0.468   3.035   5.546  50.573       1\n",
            "  30.000   0.404   2.897   5.501  49.567       1\n"
          ]
        }
      ]
    }
  ]
}