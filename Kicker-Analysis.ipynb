{
  "nbformat": 4,
  "nbformat_minor": 0,
  "metadata": {
    "colab": {
      "name": "Untitled2.ipynb",
      "provenance": [],
      "authorship_tag": "ABX9TyPKT1u9dygQTpxcTuLea5cW",
      "include_colab_link": true
    },
    "kernelspec": {
      "name": "python3",
      "display_name": "Python 3"
    },
    "language_info": {
      "name": "python"
    }
  },
  "cells": [
    {
      "cell_type": "markdown",
      "metadata": {
        "id": "view-in-github",
        "colab_type": "text"
      },
      "source": [
        "<a href=\"https://colab.research.google.com/github/dave20874/RapidReact-Kicker/blob/main/Kicker-Analysis.ipynb\" target=\"_parent\"><img src=\"https://colab.research.google.com/assets/colab-badge.svg\" alt=\"Open In Colab\"/></a>"
      ]
    },
    {
      "cell_type": "code",
      "execution_count": 67,
      "metadata": {
        "id": "r6VFMMEizUlA"
      },
      "outputs": [],
      "source": [
        "import math"
      ]
    },
    {
      "cell_type": "markdown",
      "source": [
        "This notebook develops some ideas for a pinball-style kicker to launch CARGO (oversized tennis balls) as part of 2022 FIRST Robotics Competition game, Rapid React.\n",
        "\n",
        "The analysis relies on the concept of conservation of energy.  A motor will push back plunger (performing work), compressing a spring (storing potential energy).  When the plunger is released, the spring propels the plunger forward (converting to kinetic energy).  At the end of it's stroke, the plunger strikes the ball, transferring some kinetic energy to it.  The ball then flies up, it's energy transitioning smoothly to gravitational potential energy as it rises."
      ],
      "metadata": {
        "id": "O6Vp23YRzV2J"
      }
    },
    {
      "cell_type": "markdown",
      "source": [
        "Let's begin by defining some values we'll be using:\n"
      ],
      "metadata": {
        "id": "azbvwEBB4T06"
      }
    },
    {
      "cell_type": "code",
      "source": [
        "# Gravitational acceleration, meters per second\n",
        "# (For FRC matches held on Earth)\n",
        "g = 9.8\n",
        "\n",
        "# mass of the CARGO ball, kg\n",
        "m_ball = 0.27\n",
        "\n",
        "# radius of CARGO ball, meters\n",
        "ball_radius = 0.12\n",
        "\n",
        "# In a collision, the ball only retains about 80% of it's kinetic energy.\n",
        "ball_loss = 0.80\n",
        "\n",
        "# mass of the plunger, kg\n",
        "m_plunger = 0.400\n",
        "\n",
        "# pull distance of the plunger, meters\n",
        "d_plunger = 0.06\n",
        "\n",
        "# spring constant, Newtons per meter\n",
        "# We will use 6 springs and measured 1.5 kg of force at 1cm (0.01m) compression\n",
        "k_one_spring = 1.5*g / 0.01\n",
        "num_springs = 6\n",
        "k_spring = num_springs * k_one_spring\n",
        "\n",
        "# Initial height of ball before shot, meters\n",
        "h_shooter = 1.0\n",
        "\n",
        "# Goal height, meters.  (8 feet 8 inches)\n",
        "h_goal = 2.64\n",
        "\n",
        "# Upper goal radius, meters\n",
        "goal_radius = 0.61\n",
        "\n",
        "# Launch angle, stored as radians.  (0 is horizontal, PI/2 is straight up)\n",
        "# The function math.radians converts degrees into radians for readability.\n",
        "theta_launch = math.radians(60)"
      ],
      "metadata": {
        "id": "Stt3mN4d6i0U"
      },
      "execution_count": 68,
      "outputs": []
    },
    {
      "cell_type": "markdown",
      "source": [
        "Now we can define some useful functions.  These functions compute the amount of energy in various parts of our system and convert energy back into values like distances and speeds."
      ],
      "metadata": {
        "id": "sB3eqrhT84s8"
      }
    },
    {
      "cell_type": "code",
      "source": [
        "# Spring stored energy\n",
        "# For a linear spring with spring constant, k, compressed by distance d.\n",
        "def spring_energy(k, d):\n",
        "  energy = 0.5 * k * d * d\n",
        "  return energy\n",
        "\n",
        "# Compute spring stretch amount for a spring with constant, k, and energy e\n",
        "# since spring energy, e = 1/2 * k * d^2, we have d = sqrt(2*e/k)\n",
        "def spring_stretch(k, e):\n",
        "  d = math.sqrt(2.0*e/k)\n",
        "  return d\n",
        "\n",
        "# Get kinetic energy of a mass, m, moving at velocity, v\n",
        "# e = 1/2 * m * v^2\n",
        "def vel_to_ke(m, v):\n",
        "  e = 0.5 * m * v * v\n",
        "  return e\n",
        "\n",
        "# Get velocity of a mass, m, with kinetic energy e\n",
        "# since kinetic energy, e = 1/2*m*v^2, we have v = sqrt(2*e/m)\n",
        "def ke_to_vel(e, m):\n",
        "  v = math.sqrt(2.0 * e / m)\n",
        "  return v\n",
        "\n",
        "# Get potential energy of a mass, m, at height, h\n",
        "def h_to_pe(m, h):\n",
        "  e = m * g * h\n",
        "  return e\n",
        "\n",
        "# Get height of a mass, m, with potential energy e\n",
        "def pe_to_h(e, m):\n",
        "  h = e / (m * g)\n",
        "  return h\n",
        "  "
      ],
      "metadata": {
        "id": "XOlWzu2f9C24"
      },
      "execution_count": 69,
      "outputs": []
    },
    {
      "cell_type": "markdown",
      "source": [
        "Now we can ask some questions.\n",
        "\n",
        "How much energy does the spring store, when it's compressed?  This is the amount of energy we're starting with."
      ],
      "metadata": {
        "id": "jXPgIapX_9_a"
      }
    },
    {
      "cell_type": "code",
      "source": [
        "# Starting energy\n",
        "e = spring_energy(k_spring, d_plunger)\n",
        "print(f\"Starting energy: {e:4.3f}\")\n"
      ],
      "metadata": {
        "colab": {
          "base_uri": "https://localhost:8080/"
        },
        "id": "EaoQXJTIAI1k",
        "outputId": "43ad8b7b-ca02-4e5e-8dae-eb2cb8a56f55"
      },
      "execution_count": 70,
      "outputs": [
        {
          "output_type": "stream",
          "name": "stdout",
          "text": [
            "Starting energy: 15.876\n"
          ]
        }
      ]
    },
    {
      "cell_type": "markdown",
      "source": [
        "And, quick question, how high would a CARGO go if all this energy were transferred to it?"
      ],
      "metadata": {
        "id": "3t4pIT0tEOpg"
      }
    },
    {
      "cell_type": "code",
      "source": [
        "# Height of a ball with this much energy added to it.\n",
        "h = pe_to_h(e, m_ball)\n",
        "print(f\"How high could we shoot, above launcher? {h:4.3f} meters\")\n",
        "print(f\"That is {h+h_shooter:4.3f} meters above floor\")\n",
        "print(f\"And {h+h_shooter-h_goal:4.3f} meters above the high goal.\")\n"
      ],
      "metadata": {
        "colab": {
          "base_uri": "https://localhost:8080/"
        },
        "id": "w4W-m-UyEZtA",
        "outputId": "6e105a82-d9f7-464d-e361-402408201783"
      },
      "execution_count": 71,
      "outputs": [
        {
          "output_type": "stream",
          "name": "stdout",
          "text": [
            "How high could we shoot, above launcher? 6.000 meters\n",
            "That is 7.000 meters above floor\n",
            "And 4.360 meters above the high goal.\n"
          ]
        }
      ]
    },
    {
      "cell_type": "markdown",
      "source": [
        "Using Energy let us compute the height of a launched ball directly from the compression of a spring.  Nice!  But we need to take a deeper look at the whole launch process.  What if not all that energy goes into the ball?  And what if we are launching the ball at an angle instead of straight up?\n",
        "\n",
        "First, lets look at the collision of the plunger with the ball.  Does all the energy go to the ball?  No!  How much the ball receives depends on the mass of the plunger and the mass of the ball.\n",
        "\n",
        "If there is no friction in the plunger mechanism, we can assume all the spring energy is transferred to the plunger just before it strikes the ball.  So, knowing the spring's energy and the plunger's mass, we can compute the speed of the plunger."
      ],
      "metadata": {
        "id": "6SAOb76gJG5y"
      }
    },
    {
      "cell_type": "code",
      "source": [
        "v_plunger = ke_to_vel(e, m_plunger)\n",
        "print(f\"Plunger is moving {v_plunger:4.3f} meters per second\")"
      ],
      "metadata": {
        "colab": {
          "base_uri": "https://localhost:8080/"
        },
        "id": "IAUnRtW-KKMG",
        "outputId": "cf6501ee-b9c9-4c13-e4e7-f097293541f2"
      },
      "execution_count": 72,
      "outputs": [
        {
          "output_type": "stream",
          "name": "stdout",
          "text": [
            "Plunger is moving 8.910 meters per second\n"
          ]
        }
      ]
    },
    {
      "cell_type": "markdown",
      "source": [
        "Then we use an equation for computing the effect of a collision between two masses in one dimension.  \n",
        "\n",
        "In this formula, m1 and m2 are the masses of two objects.  Before the collision they have velocities u1 and u2.  After, they have velocities v1 and v2.\n",
        "\n",
        "We will evaluate the kinetic energy of the ball and plunger at this point to see how efficient our collision was."
      ],
      "metadata": {
        "id": "UiAsRZcSKyPl"
      }
    },
    {
      "cell_type": "code",
      "source": [
        "# Compute post-collision velocities, v1 and v2, for objects with mass m1, m2 colliding with velocities u1, u2\n",
        "def collide(m1, u1, m2, u2):\n",
        "  v1 = (u1*(m1-m2)+2*m2*u2) / (m1+m2)\n",
        "  v2 = (u2*(m2-m1)+2*m1*u1) / (m1+m2)\n",
        "  return (v1, v2)\n",
        "\n",
        "(v1, v2) = collide(m_plunger, v_plunger, m_ball, 0.0)\n",
        "print(f\"After an elastic collision, the ball would have velocity {v2:4.3f} meters per second\")\n",
        "print(f\"The plunger would have velocity {v1:4.3f} meters per second.\")\n",
        "e_ball = vel_to_ke(m_ball, v2)\n",
        "e_plunger = vel_to_ke(m_plunger, v1)\n",
        "print(f\"The ball has {e_ball:4.3f} Joules after collision.\")\n",
        "print(f\"That is {100*e_ball/e:4.3f}% of the energy we started with.\")"
      ],
      "metadata": {
        "colab": {
          "base_uri": "https://localhost:8080/"
        },
        "id": "eruaaNUFLzJj",
        "outputId": "60ea380b-f7df-437a-9a67-bfb6f1d5be8b"
      },
      "execution_count": 73,
      "outputs": [
        {
          "output_type": "stream",
          "name": "stdout",
          "text": [
            "After an elastic collision, the ball would have velocity 10.638 meters per second\n",
            "The plunger would have velocity 1.729 meters per second.\n",
            "The ball has 15.278 Joules after collision.\n",
            "That is 96.235% of the energy we started with.\n"
          ]
        }
      ]
    },
    {
      "cell_type": "markdown",
      "source": [
        "TODO: Add analysis for optimal plunger mass."
      ],
      "metadata": {
        "id": "ypPhZ-hBRuCF"
      }
    },
    {
      "cell_type": "markdown",
      "source": [
        "We know the ball dissipates energy in collisions, though.  So we should reduce it's energy and re-evaluate how high it might go"
      ],
      "metadata": {
        "id": "FeAPoFZpR2pP"
      }
    },
    {
      "cell_type": "code",
      "source": [
        "e_ball = e_ball * ball_loss\n",
        "print(f\"Ball's adjusted energy: {e_ball:4.3f} Joules\")\n",
        "v_ball = ke_to_vel(e_ball, m_ball)\n",
        "print(f\"Ball's adjusted speed: {v_ball:4.3f} meters per second\")\n",
        "h_max = h_shooter + pe_to_h(e_ball, m_ball)\n",
        "print(f\"It can reach a max height of {h_max:4.3f} meters above the floor.\")\n",
        "print(f\"That is {h_max-h_goal:4.3f} meters above the goal.\")"
      ],
      "metadata": {
        "colab": {
          "base_uri": "https://localhost:8080/"
        },
        "id": "MvyJFpH8T-qS",
        "outputId": "be06af99-89d6-4767-a9b3-aacbcdae1079"
      },
      "execution_count": 74,
      "outputs": [
        {
          "output_type": "stream",
          "name": "stdout",
          "text": [
            "Ball's adjusted energy: 12.223 Joules\n",
            "Ball's adjusted speed: 9.515 meters per second\n",
            "It can reach a max height of 5.619 meters above the floor.\n",
            "That is 2.979 meters above the goal.\n"
          ]
        }
      ]
    },
    {
      "cell_type": "markdown",
      "source": [
        "What sort of trajectories are possible with this much ball velocity?  We can answer this by looking first at the ball's velocity when it is at the opening of the high goal.  We can evaluate the potential energy at the goal high, subtract that from the total energy and the remaining part must be kinetic energy.  From there we get the velocity."
      ],
      "metadata": {
        "id": "eJNDYFaXfskM"
      }
    },
    {
      "cell_type": "code",
      "source": [
        "pe_goal = h_to_pe(m_ball, h_goal)\n",
        "ke_at_goal = e_ball - pe_goal\n",
        "v_at_goal = ke_to_vel(ke_at_goal, m_ball)\n",
        "print(f\"Velocity at goal entrance: {v_at_goal:4.3f} meters per second\")\n"
      ],
      "metadata": {
        "colab": {
          "base_uri": "https://localhost:8080/"
        },
        "id": "jnScaqaUgOuy",
        "outputId": "2636b6e5-a703-4404-d9d7-22bff7204dae"
      },
      "execution_count": 75,
      "outputs": [
        {
          "output_type": "stream",
          "name": "stdout",
          "text": [
            "Velocity at goal entrance: 6.228 meters per second\n"
          ]
        }
      ]
    },
    {
      "cell_type": "markdown",
      "source": [
        "Next, we can evaluate trajectories with that velocity, entering the goal at angles from vertical (90 degrees) to horizontal (0 degrees).  For each landing angle, we'll compute the max height above the goal, the horizontal distance from the goal when ascending, the launch distance from center of the field and the launch angle from the robot.  Some of these trajectories will be invalid because they don't clear the edge of the goal (max height less than ball radius horizontal ascent distance less than goal radius)"
      ],
      "metadata": {
        "id": "PEN2bqcAg83O"
      }
    },
    {
      "cell_type": "code",
      "source": [
        "# Given the goal velocity and angle, compute trajectory data:\n",
        "# returns (clearance_z, clearance_x, launch_d, launch_angle, is_valid)\n",
        "def eval_trajectory(final_v, final_theta, launch_h):\n",
        "  v_z = math.sin(final_theta)*final_v                # vertical speed at goal\n",
        "  v_x = math.cos(final_theta)*final_v                # horizontal speed at goal\n",
        "  t_apex_goal = v_z / g                         # time from apex to goal\n",
        "  z_above_goal = 0.5 * g * t_apex_goal * t_apex_goal # height of apex above goal\n",
        "  clearance_z = z_above_goal - ball_radius\n",
        "  x_at_goal = 2.0 * t_apex_goal * v_x           # hor movement from h_goal to apex and back\n",
        "  clearance_x = x_at_goal - goal_radius - ball_radius\n",
        "  t_shot_apex = math.sqrt(2.0 * (h_goal+z_above_goal-h_shooter) / g)\n",
        "  v_z_shooter = t_shot_apex * g\n",
        "  launch_d = v_x * (t_shot_apex+t_apex_goal)\n",
        "  launch_angle = math.atan(v_z_shooter / v_x)\n",
        "\n",
        "  is_valid = True\n",
        "  if clearance_z <= 0:\n",
        "    is_valid = False\n",
        "  if clearance_x <= 0:\n",
        "    is_valid = False\n",
        "\n",
        "  return (clearance_z, clearance_x, launch_d, launch_angle, is_valid)\n",
        "\n",
        "print(\"   entry z-clear x-clear    dist   angle   valid\")\n",
        "for degrees in range(90, 28, -2):\n",
        "  theta = math.radians(degrees)\n",
        "  cz, cx, dist, angle, valid = eval_trajectory(v_at_goal, theta, h_shooter)\n",
        "  print(f\"{math.degrees(theta):8.3f}{cz:8.3f}{cx:8.3f}{dist:8.3f}{math.degrees(angle):8.3f}{valid:8}\")"
      ],
      "metadata": {
        "colab": {
          "base_uri": "https://localhost:8080/"
        },
        "id": "ropjeTTYit4c",
        "outputId": "7172e352-204e-4294-c8df-9f08625d9674"
      },
      "execution_count": 76,
      "outputs": [
        {
          "output_type": "stream",
          "name": "stdout",
          "text": [
            "   entry z-clear x-clear    dist   angle   valid\n",
            "  90.000   1.859  -0.730   0.000  90.000       0\n",
            "  88.000   1.857  -0.454   0.325  88.521       0\n",
            "  86.000   1.850  -0.179   0.648  87.043       0\n",
            "  84.000   1.838   0.093   0.969  85.567       1\n",
            "  82.000   1.821   0.361   1.287  84.093       1\n",
            "  80.000   1.800   0.624   1.599  82.622       1\n",
            "  78.000   1.774   0.880   1.905  81.156       1\n",
            "  76.000   1.743   1.128   2.203  79.694       1\n",
            "  74.000   1.709   1.368   2.493  78.239       1\n",
            "  72.000   1.670   1.597   2.774  76.790       1\n",
            "  70.000   1.628   1.815   3.044  75.349       1\n",
            "  68.000   1.582   2.020   3.302  73.917       1\n",
            "  66.000   1.532   2.212   3.547  72.495       1\n",
            "  64.000   1.479   2.389   3.780  71.084       1\n",
            "  62.000   1.423   2.552   3.998  69.685       1\n",
            "  60.000   1.364   2.698   4.201  68.300       1\n",
            "  58.000   1.303   2.828   4.389  66.928       1\n",
            "  56.000   1.240   2.940   4.561  65.573       1\n",
            "  54.000   1.175   3.035   4.716  64.236       1\n",
            "  52.000   1.109   3.111   4.855  62.917       1\n",
            "  50.000   1.041   3.168   4.976  61.618       1\n",
            "  48.000   0.973   3.207   5.081  60.342       1\n",
            "  46.000   0.904   3.226   5.168  59.089       1\n",
            "  44.000   0.835   3.226   5.239  57.862       1\n",
            "  42.000   0.766   3.207   5.292  56.663       1\n",
            "  40.000   0.698   3.168   5.328  55.494       1\n",
            "  38.000   0.630   3.111   5.348  54.356       1\n",
            "  36.000   0.564   3.035   5.353  53.254       1\n",
            "  34.000   0.499   2.940   5.341  52.187       1\n",
            "  32.000   0.436   2.828   5.315  51.161       1\n",
            "  30.000   0.375   2.698   5.274  50.176       1\n"
          ]
        }
      ]
    }
  ]
}